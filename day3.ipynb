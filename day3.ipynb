{
 "cells": [
  {
   "cell_type": "markdown",
   "metadata": {},
   "source": [
    "# Day 3"
   ]
  },
  {
   "cell_type": "code",
   "execution_count": 77,
   "metadata": {},
   "outputs": [],
   "source": [
    "import math\n",
    "import numpy as np"
   ]
  },
  {
   "cell_type": "code",
   "execution_count": 89,
   "metadata": {},
   "outputs": [],
   "source": [
    "moves_dict = {\"R\": lambda x, y: (x+1, y),\n",
    "              \"L\": lambda x, y: (x-1, y),\n",
    "              \"U\": lambda x, y: (x, y+1),\n",
    "              \"D\": lambda x, y: (x, y-1)}\n",
    "\n",
    "def visit(moves):\n",
    "    visited = []\n",
    "    x, y = 0, 0\n",
    "    for move in moves:\n",
    "        direction, amount = move[0], int(move[1:])\n",
    "        for _ in range(amount):\n",
    "            x, y = moves_dict[direction](x,y)\n",
    "            visited.append((x, y))\n",
    "\n",
    "    return visited\n",
    "        \n",
    "with open(\"input3_1.txt\") as f:\n",
    "    visited_1 = visit(f.readline().split(\",\"))\n",
    "    visited_2 = visit(f.readline().split(\",\"))"
   ]
  },
  {
   "cell_type": "markdown",
   "metadata": {},
   "source": [
    "\n",
    "### 1"
   ]
  },
  {
   "cell_type": "code",
   "execution_count": 90,
   "metadata": {},
   "outputs": [
    {
     "name": "stdout",
     "output_type": "stream",
     "text": [
      "399\n"
     ]
    }
   ],
   "source": [
    "intersections = list(set(visited_1) & set(visited_2)) \n",
    "\n",
    "min_dist = math.inf\n",
    "for (x,y) in intersections:\n",
    "    dist = abs(x) + abs(y)\n",
    "    if dist < min_dist:\n",
    "        min_dist = dist\n",
    "print(min_dist)"
   ]
  },
  {
   "cell_type": "markdown",
   "metadata": {},
   "source": [
    "### 2"
   ]
  },
  {
   "cell_type": "code",
   "execution_count": 91,
   "metadata": {},
   "outputs": [
    {
     "name": "stdout",
     "output_type": "stream",
     "text": [
      "15678\n"
     ]
    }
   ],
   "source": [
    "min_dist = math.inf\n",
    "for intersection in intersections:\n",
    "    idx1 = visited_1.index(intersection) + 1\n",
    "    idx2 = visited_2.index(intersection) + 1\n",
    "    dist = idx1 + idx2\n",
    "    if dist < min_dist:\n",
    "        min_dist = dist\n",
    "\n",
    "print(min_dist)"
   ]
  },
  {
   "cell_type": "code",
   "execution_count": null,
   "metadata": {},
   "outputs": [],
   "source": []
  }
 ],
 "metadata": {
  "kernelspec": {
   "display_name": "Python 3",
   "language": "python",
   "name": "python3"
  },
  "language_info": {
   "codemirror_mode": {
    "name": "ipython",
    "version": 3
   },
   "file_extension": ".py",
   "mimetype": "text/x-python",
   "name": "python",
   "nbconvert_exporter": "python",
   "pygments_lexer": "ipython3",
   "version": "3.6.5rc1"
  }
 },
 "nbformat": 4,
 "nbformat_minor": 2
}
