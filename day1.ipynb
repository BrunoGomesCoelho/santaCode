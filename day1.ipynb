{
 "cells": [
  {
   "cell_type": "markdown",
   "metadata": {},
   "source": [
    "# Day 1"
   ]
  },
  {
   "cell_type": "code",
   "execution_count": 1,
   "metadata": {},
   "outputs": [],
   "source": [
    "import math"
   ]
  },
  {
   "cell_type": "code",
   "execution_count": 22,
   "metadata": {},
   "outputs": [],
   "source": [
    "def calc_fuel(mass):\n",
    "    \"\"\"Fuel required to launch a given module is based on its mass. \n",
    "    Specifically, to find the fuel required for a module, take its mass, \n",
    "        divide by three, round down, and subtract 2.\n",
    "    \"\"\"\n",
    "    return math.floor(mass/3) - 2"
   ]
  },
  {
   "cell_type": "markdown",
   "metadata": {},
   "source": [
    "### 1"
   ]
  },
  {
   "cell_type": "code",
   "execution_count": 27,
   "metadata": {},
   "outputs": [
    {
     "name": "stdout",
     "output_type": "stream",
     "text": [
      "3406432\n"
     ]
    }
   ],
   "source": [
    "count = 0\n",
    "with open(\"input1_1.txt\") as f:\n",
    "    for line in f.readlines():\n",
    "        count += calc_fuel(int(line))\n",
    "print(count)"
   ]
  },
  {
   "cell_type": "markdown",
   "metadata": {},
   "source": [
    "### 2"
   ]
  },
  {
   "cell_type": "code",
   "execution_count": 28,
   "metadata": {},
   "outputs": [
    {
     "name": "stdout",
     "output_type": "stream",
     "text": [
      "5106777\n"
     ]
    }
   ],
   "source": [
    "count = 0\n",
    "with open(\"input1_1.txt\") as f:\n",
    "    for line in f.readlines():\n",
    "        fuel = calc_fuel(int(line))\n",
    "        count += fuel\n",
    "        while fuel > 0:\n",
    "            fuel = calc_fuel(int(fuel))\n",
    "            if fuel > 0:\n",
    "                count += fuel\n",
    "print(count)"
   ]
  },
  {
   "cell_type": "code",
   "execution_count": null,
   "metadata": {},
   "outputs": [],
   "source": []
  }
 ],
 "metadata": {
  "kernelspec": {
   "display_name": "Python 3",
   "language": "python",
   "name": "python3"
  },
  "language_info": {
   "codemirror_mode": {
    "name": "ipython",
    "version": 3
   },
   "file_extension": ".py",
   "mimetype": "text/x-python",
   "name": "python",
   "nbconvert_exporter": "python",
   "pygments_lexer": "ipython3",
   "version": "3.6.5rc1"
  }
 },
 "nbformat": 4,
 "nbformat_minor": 2
}
