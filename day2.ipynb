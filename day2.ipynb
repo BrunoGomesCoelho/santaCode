{
 "cells": [
  {
   "cell_type": "markdown",
   "metadata": {},
   "source": [
    "# Day 2"
   ]
  },
  {
   "cell_type": "code",
   "execution_count": 46,
   "metadata": {},
   "outputs": [],
   "source": [
    "with open(\"input2_1.txt\") as f:\n",
    "    instructions = [int(x) for x in f.readline().split(\",\")]"
   ]
  },
  {
   "cell_type": "markdown",
   "metadata": {},
   "source": [
    "### 1"
   ]
  },
  {
   "cell_type": "code",
   "execution_count": 47,
   "metadata": {},
   "outputs": [],
   "source": [
    "def execute(instructions):\n",
    "    pos = 0\n",
    "    while instructions[pos] != 99:\n",
    "        op, source_a, source_b, dest = instructions[pos:pos+4]\n",
    "        if op == 1:\n",
    "            instructions[dest] = instructions[source_a] + instructions[source_b]\n",
    "        elif op == 2:\n",
    "            instructions[dest] = instructions[source_a] * instructions[source_b]\n",
    "        pos += 4\n",
    "    return instructions"
   ]
  },
  {
   "cell_type": "code",
   "execution_count": 48,
   "metadata": {},
   "outputs": [
    {
     "name": "stdout",
     "output_type": "stream",
     "text": [
      "3760627\n"
     ]
    }
   ],
   "source": [
    "print(execute(instructions.copy())[0])"
   ]
  },
  {
   "cell_type": "markdown",
   "metadata": {},
   "source": [
    "### 2"
   ]
  },
  {
   "cell_type": "code",
   "execution_count": 54,
   "metadata": {},
   "outputs": [
    {
     "name": "stdout",
     "output_type": "stream",
     "text": [
      "7195\n"
     ]
    }
   ],
   "source": [
    "for noun in range(100):\n",
    "    for verb in range(100):\n",
    "        new_instructions = instructions.copy()\n",
    "        new_instructions[1] = noun\n",
    "        new_instructions[2] = verb\n",
    "        output = execute(new_instructions)[0]\n",
    "        if output == 19690720:\n",
    "            print(100*noun + verb)"
   ]
  },
  {
   "cell_type": "code",
   "execution_count": null,
   "metadata": {},
   "outputs": [],
   "source": []
  }
 ],
 "metadata": {
  "kernelspec": {
   "display_name": "Python 3",
   "language": "python",
   "name": "python3"
  },
  "language_info": {
   "codemirror_mode": {
    "name": "ipython",
    "version": 3
   },
   "file_extension": ".py",
   "mimetype": "text/x-python",
   "name": "python",
   "nbconvert_exporter": "python",
   "pygments_lexer": "ipython3",
   "version": "3.6.5rc1"
  }
 },
 "nbformat": 4,
 "nbformat_minor": 2
}
